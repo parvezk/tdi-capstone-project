{
  "nbformat": 4,
  "nbformat_minor": 0,
  "metadata": {
    "colab": {
      "name": "mv_collision_bigQuery.ipynb",
      "version": "0.3.2",
      "provenance": [],
      "collapsed_sections": [],
      "include_colab_link": true
    },
    "kernelspec": {
      "name": "python3",
      "display_name": "Python 3"
    }
  },
  "cells": [
    {
      "cell_type": "markdown",
      "metadata": {
        "id": "view-in-github",
        "colab_type": "text"
      },
      "source": [
        "<a href=\"https://colab.research.google.com/github/parvezk/tdi-capstone-project/blob/master/mv_collision_bigQuery.ipynb\" target=\"_parent\"><img src=\"https://colab.research.google.com/assets/colab-badge.svg\" alt=\"Open In Colab\"/></a>"
      ]
    },
    {
      "metadata": {
        "id": "LuHq0MMNwOE5",
        "colab_type": "code",
        "colab": {
          "base_uri": "https://localhost:8080/",
          "height": 34
        },
        "outputId": "6b6af455-f676-4679-ed29-d015c468d5cd"
      },
      "cell_type": "code",
      "source": [
        "from google.colab import auth\n",
        "auth.authenticate_user()\n",
        "print('Authenticated')"
      ],
      "execution_count": 2,
      "outputs": [
        {
          "output_type": "stream",
          "text": [
            "Authenticated\n"
          ],
          "name": "stdout"
        }
      ]
    },
    {
      "metadata": {
        "id": "4Mo9o-eUc0x2",
        "colab_type": "code",
        "colab": {}
      },
      "cell_type": "code",
      "source": [
        "import numpy as np\n",
        "import pandas as pd\n",
        "import matplotlib.pyplot as plt"
      ],
      "execution_count": 0,
      "outputs": []
    },
    {
      "metadata": {
        "id": "xaQMOVIec6C8",
        "colab_type": "code",
        "colab": {}
      },
      "cell_type": "code",
      "source": [
        ""
      ],
      "execution_count": 0,
      "outputs": []
    },
    {
      "metadata": {
        "id": "Ykr5hJc0w1F-",
        "colab_type": "code",
        "colab": {
          "base_uri": "https://localhost:8080/",
          "height": 80
        },
        "outputId": "a8121b23-eeda-4abc-9ec9-84b0a85f9b16"
      },
      "cell_type": "code",
      "source": [
        "%%bigquery --project dti-capstone-1 df1\n",
        "SELECT \n",
        "  COUNT(*) as total_rows\n",
        "FROM `bigquery-public-data.new_york.nypd_mv_collisions`"
      ],
      "execution_count": 3,
      "outputs": [
        {
          "output_type": "execute_result",
          "data": {
            "text/html": [
              "<div>\n",
              "<style scoped>\n",
              "    .dataframe tbody tr th:only-of-type {\n",
              "        vertical-align: middle;\n",
              "    }\n",
              "\n",
              "    .dataframe tbody tr th {\n",
              "        vertical-align: top;\n",
              "    }\n",
              "\n",
              "    .dataframe thead th {\n",
              "        text-align: right;\n",
              "    }\n",
              "</style>\n",
              "<table border=\"1\" class=\"dataframe\">\n",
              "  <thead>\n",
              "    <tr style=\"text-align: right;\">\n",
              "      <th></th>\n",
              "      <th>total_rows</th>\n",
              "    </tr>\n",
              "  </thead>\n",
              "  <tbody>\n",
              "    <tr>\n",
              "      <th>0</th>\n",
              "      <td>1196940</td>\n",
              "    </tr>\n",
              "  </tbody>\n",
              "</table>\n",
              "</div>"
            ],
            "text/plain": [
              "   total_rows\n",
              "0     1196940"
            ]
          },
          "metadata": {
            "tags": []
          },
          "execution_count": 3
        }
      ]
    },
    {
      "metadata": {
        "id": "NelrrxH2w_0P",
        "colab_type": "code",
        "colab": {
          "base_uri": "https://localhost:8080/",
          "height": 80
        },
        "outputId": "a72a3e51-5e37-4522-b671-e377c5c3cc9a"
      },
      "cell_type": "code",
      "source": [
        "df1"
      ],
      "execution_count": 4,
      "outputs": [
        {
          "output_type": "execute_result",
          "data": {
            "text/html": [
              "<div>\n",
              "<style scoped>\n",
              "    .dataframe tbody tr th:only-of-type {\n",
              "        vertical-align: middle;\n",
              "    }\n",
              "\n",
              "    .dataframe tbody tr th {\n",
              "        vertical-align: top;\n",
              "    }\n",
              "\n",
              "    .dataframe thead th {\n",
              "        text-align: right;\n",
              "    }\n",
              "</style>\n",
              "<table border=\"1\" class=\"dataframe\">\n",
              "  <thead>\n",
              "    <tr style=\"text-align: right;\">\n",
              "      <th></th>\n",
              "      <th>total_rows</th>\n",
              "    </tr>\n",
              "  </thead>\n",
              "  <tbody>\n",
              "    <tr>\n",
              "      <th>0</th>\n",
              "      <td>1196940</td>\n",
              "    </tr>\n",
              "  </tbody>\n",
              "</table>\n",
              "</div>"
            ],
            "text/plain": [
              "   total_rows\n",
              "0     1196940"
            ]
          },
          "metadata": {
            "tags": []
          },
          "execution_count": 4
        }
      ]
    },
    {
      "metadata": {
        "id": "-KilUc0yxC8H",
        "colab_type": "code",
        "colab": {}
      },
      "cell_type": "code",
      "source": [
        "project_id = 'dti-capstone-1'"
      ],
      "execution_count": 0,
      "outputs": []
    },
    {
      "metadata": {
        "id": "CLaWAG_axGIm",
        "colab_type": "code",
        "colab": {
          "base_uri": "https://localhost:8080/",
          "height": 34
        },
        "outputId": "eb68c7db-aaf8-4166-b1d4-9c30bb727362"
      },
      "cell_type": "code",
      "source": [
        "project_id"
      ],
      "execution_count": 6,
      "outputs": [
        {
          "output_type": "execute_result",
          "data": {
            "text/plain": [
              "'dti-capstone-1'"
            ]
          },
          "metadata": {
            "tags": []
          },
          "execution_count": 6
        }
      ]
    },
    {
      "metadata": {
        "id": "oCQA0eTHxIgP",
        "colab_type": "code",
        "colab": {
          "base_uri": "https://localhost:8080/",
          "height": 51
        },
        "outputId": "34fd545b-2700-43bb-f60f-392cb5961f52"
      },
      "cell_type": "code",
      "source": [
        "from google.cloud import bigquery\n",
        "\n",
        "project_id = 'dti-capstone-1'\n",
        "client = bigquery.Client(project=project_id)\n",
        "\n",
        "for dataset in client.list_datasets():\n",
        "  print(dataset.dataset_id)"
      ],
      "execution_count": 8,
      "outputs": [
        {
          "output_type": "stream",
          "text": [
            "new_york_mv_collisions_2012\n",
            "nypd_mv_collision_2019\n"
          ],
          "name": "stdout"
        }
      ]
    },
    {
      "metadata": {
        "id": "dmzDr-7KxKuV",
        "colab_type": "code",
        "colab": {
          "base_uri": "https://localhost:8080/",
          "height": 34
        },
        "outputId": "779dca3b-5a04-47a9-f8b4-eb2ab457f4ea"
      },
      "cell_type": "code",
      "source": [
        "project_id = 'dti-capstone-1'\n",
        "\n",
        "client = bigquery.Client(project=project_id)\n",
        "\n",
        "df = client.query('''\n",
        "  SELECT \n",
        "    *\n",
        "  FROM `bigquery-public-data.new_york.nypd_mv_collisions`''').to_dataframe()"
      ],
      "execution_count": 19,
      "outputs": [
        {
          "output_type": "stream",
          "text": [
            "WARNING:google.auth._default:No project ID could be determined. Consider running `gcloud config set project` or setting the GOOGLE_CLOUD_PROJECT environment variable\n"
          ],
          "name": "stderr"
        }
      ]
    },
    {
      "metadata": {
        "id": "VDiS_TNz83BL",
        "colab_type": "code",
        "colab": {
          "base_uri": "https://localhost:8080/",
          "height": 34
        },
        "outputId": "6a4f7ddb-4e6d-4607-c77c-fdf5ebe8e7a3"
      },
      "cell_type": "code",
      "source": [
        "df.shape"
      ],
      "execution_count": 20,
      "outputs": [
        {
          "output_type": "execute_result",
          "data": {
            "text/plain": [
              "(1196940, 28)"
            ]
          },
          "metadata": {
            "tags": []
          },
          "execution_count": 20
        }
      ]
    },
    {
      "metadata": {
        "id": "BEJ_sjWe-9Ho",
        "colab_type": "code",
        "colab": {
          "base_uri": "https://localhost:8080/",
          "height": 338
        },
        "outputId": "751bff38-92bb-41c9-88fd-edef3e5ad1a6"
      },
      "cell_type": "code",
      "source": [
        "df.head()"
      ],
      "execution_count": 33,
      "outputs": [
        {
          "output_type": "execute_result",
          "data": {
            "text/html": [
              "<div>\n",
              "<style scoped>\n",
              "    .dataframe tbody tr th:only-of-type {\n",
              "        vertical-align: middle;\n",
              "    }\n",
              "\n",
              "    .dataframe tbody tr th {\n",
              "        vertical-align: top;\n",
              "    }\n",
              "\n",
              "    .dataframe thead th {\n",
              "        text-align: right;\n",
              "    }\n",
              "</style>\n",
              "<table border=\"1\" class=\"dataframe\">\n",
              "  <thead>\n",
              "    <tr style=\"text-align: right;\">\n",
              "      <th></th>\n",
              "      <th>borough</th>\n",
              "      <th>contributing_factor_vehicle_1</th>\n",
              "      <th>contributing_factor_vehicle_2</th>\n",
              "      <th>contributing_factor_vehicle_3</th>\n",
              "      <th>contributing_factor_vehicle_4</th>\n",
              "      <th>contributing_factor_vehicle_5</th>\n",
              "      <th>cross_street_name</th>\n",
              "      <th>timestamp</th>\n",
              "      <th>latitude</th>\n",
              "      <th>longitude</th>\n",
              "      <th>...</th>\n",
              "      <th>number_of_persons_killed</th>\n",
              "      <th>off_street_name</th>\n",
              "      <th>on_street_name</th>\n",
              "      <th>unique_key</th>\n",
              "      <th>vehicle_type_code1</th>\n",
              "      <th>vehicle_type_code2</th>\n",
              "      <th>vehicle_type_code_3</th>\n",
              "      <th>vehicle_type_code_4</th>\n",
              "      <th>vehicle_type_code_5</th>\n",
              "      <th>zip_code</th>\n",
              "    </tr>\n",
              "  </thead>\n",
              "  <tbody>\n",
              "    <tr>\n",
              "      <th>0</th>\n",
              "      <td>QUEENS</td>\n",
              "      <td>Outside Car Distraction</td>\n",
              "      <td>Unspecified</td>\n",
              "      <td></td>\n",
              "      <td></td>\n",
              "      <td></td>\n",
              "      <td>GREENWAY SOUTH</td>\n",
              "      <td>2018-01-17 10:35:00+00:00</td>\n",
              "      <td>40.710400</td>\n",
              "      <td>-73.839740</td>\n",
              "      <td>...</td>\n",
              "      <td>0</td>\n",
              "      <td></td>\n",
              "      <td>UNION TURNPIKE</td>\n",
              "      <td>3830694</td>\n",
              "      <td>SPORT UTILITY / STATION WAGON</td>\n",
              "      <td>AM</td>\n",
              "      <td></td>\n",
              "      <td></td>\n",
              "      <td></td>\n",
              "      <td>11375.0</td>\n",
              "    </tr>\n",
              "    <tr>\n",
              "      <th>1</th>\n",
              "      <td>MANHATTAN</td>\n",
              "      <td>Fatigued/Drowsy</td>\n",
              "      <td>Other Vehicular</td>\n",
              "      <td></td>\n",
              "      <td></td>\n",
              "      <td></td>\n",
              "      <td>3 AVENUE</td>\n",
              "      <td>2015-05-08 17:30:00+00:00</td>\n",
              "      <td>40.780125</td>\n",
              "      <td>-73.953034</td>\n",
              "      <td>...</td>\n",
              "      <td>0</td>\n",
              "      <td></td>\n",
              "      <td>EAST 88 STREET</td>\n",
              "      <td>3216563</td>\n",
              "      <td>PASSENGER VEHICLE</td>\n",
              "      <td>MOTORCYCLE</td>\n",
              "      <td></td>\n",
              "      <td></td>\n",
              "      <td></td>\n",
              "      <td>10128.0</td>\n",
              "    </tr>\n",
              "    <tr>\n",
              "      <th>2</th>\n",
              "      <td>QUEENS</td>\n",
              "      <td>Driver Inattention/Distraction</td>\n",
              "      <td>Unspecified</td>\n",
              "      <td></td>\n",
              "      <td></td>\n",
              "      <td></td>\n",
              "      <td></td>\n",
              "      <td>2017-11-22 07:15:00+00:00</td>\n",
              "      <td>40.685524</td>\n",
              "      <td>-73.844600</td>\n",
              "      <td>...</td>\n",
              "      <td>0</td>\n",
              "      <td>99-08     97 STREET</td>\n",
              "      <td></td>\n",
              "      <td>3795174</td>\n",
              "      <td>PASSENGER VEHICLE</td>\n",
              "      <td>CONV</td>\n",
              "      <td></td>\n",
              "      <td></td>\n",
              "      <td></td>\n",
              "      <td>11416.0</td>\n",
              "    </tr>\n",
              "    <tr>\n",
              "      <th>3</th>\n",
              "      <td>BRONX</td>\n",
              "      <td>Turning Improperly</td>\n",
              "      <td>Unspecified</td>\n",
              "      <td></td>\n",
              "      <td></td>\n",
              "      <td></td>\n",
              "      <td>WESTCHESTER AVENUE</td>\n",
              "      <td>2017-12-05 07:30:00+00:00</td>\n",
              "      <td>40.832650</td>\n",
              "      <td>-73.863660</td>\n",
              "      <td>...</td>\n",
              "      <td>0</td>\n",
              "      <td></td>\n",
              "      <td>LELAND AVENUE</td>\n",
              "      <td>3803160</td>\n",
              "      <td>PASSENGER VEHICLE</td>\n",
              "      <td>BU</td>\n",
              "      <td></td>\n",
              "      <td></td>\n",
              "      <td></td>\n",
              "      <td>10472.0</td>\n",
              "    </tr>\n",
              "    <tr>\n",
              "      <th>4</th>\n",
              "      <td>BRONX</td>\n",
              "      <td>Driver Inattention/Distraction</td>\n",
              "      <td>Unspecified</td>\n",
              "      <td></td>\n",
              "      <td></td>\n",
              "      <td></td>\n",
              "      <td></td>\n",
              "      <td>2017-11-03 09:22:00+00:00</td>\n",
              "      <td>40.853233</td>\n",
              "      <td>-73.891750</td>\n",
              "      <td>...</td>\n",
              "      <td>0</td>\n",
              "      <td>4487      3 AVENUE</td>\n",
              "      <td></td>\n",
              "      <td>3794016</td>\n",
              "      <td>PASSENGER VEHICLE</td>\n",
              "      <td>TK</td>\n",
              "      <td></td>\n",
              "      <td></td>\n",
              "      <td></td>\n",
              "      <td>10457.0</td>\n",
              "    </tr>\n",
              "  </tbody>\n",
              "</table>\n",
              "<p>5 rows × 28 columns</p>\n",
              "</div>"
            ],
            "text/plain": [
              "     borough   contributing_factor_vehicle_1 contributing_factor_vehicle_2  \\\n",
              "0     QUEENS         Outside Car Distraction                   Unspecified   \n",
              "1  MANHATTAN                 Fatigued/Drowsy               Other Vehicular   \n",
              "2     QUEENS  Driver Inattention/Distraction                   Unspecified   \n",
              "3      BRONX              Turning Improperly                   Unspecified   \n",
              "4      BRONX  Driver Inattention/Distraction                   Unspecified   \n",
              "\n",
              "  contributing_factor_vehicle_3 contributing_factor_vehicle_4  \\\n",
              "0                                                               \n",
              "1                                                               \n",
              "2                                                               \n",
              "3                                                               \n",
              "4                                                               \n",
              "\n",
              "  contributing_factor_vehicle_5   cross_street_name                 timestamp  \\\n",
              "0                                    GREENWAY SOUTH 2018-01-17 10:35:00+00:00   \n",
              "1                                          3 AVENUE 2015-05-08 17:30:00+00:00   \n",
              "2                                                   2017-11-22 07:15:00+00:00   \n",
              "3                                WESTCHESTER AVENUE 2017-12-05 07:30:00+00:00   \n",
              "4                                                   2017-11-03 09:22:00+00:00   \n",
              "\n",
              "    latitude  longitude   ...    number_of_persons_killed  \\\n",
              "0  40.710400 -73.839740   ...                           0   \n",
              "1  40.780125 -73.953034   ...                           0   \n",
              "2  40.685524 -73.844600   ...                           0   \n",
              "3  40.832650 -73.863660   ...                           0   \n",
              "4  40.853233 -73.891750   ...                           0   \n",
              "\n",
              "       off_street_name  on_street_name  unique_key  \\\n",
              "0                       UNION TURNPIKE     3830694   \n",
              "1                       EAST 88 STREET     3216563   \n",
              "2  99-08     97 STREET                     3795174   \n",
              "3                        LELAND AVENUE     3803160   \n",
              "4   4487      3 AVENUE                     3794016   \n",
              "\n",
              "              vehicle_type_code1  vehicle_type_code2  vehicle_type_code_3  \\\n",
              "0  SPORT UTILITY / STATION WAGON                  AM                        \n",
              "1              PASSENGER VEHICLE          MOTORCYCLE                        \n",
              "2              PASSENGER VEHICLE                CONV                        \n",
              "3              PASSENGER VEHICLE                  BU                        \n",
              "4              PASSENGER VEHICLE                  TK                        \n",
              "\n",
              "   vehicle_type_code_4  vehicle_type_code_5 zip_code  \n",
              "0                                            11375.0  \n",
              "1                                            10128.0  \n",
              "2                                            11416.0  \n",
              "3                                            10472.0  \n",
              "4                                            10457.0  \n",
              "\n",
              "[5 rows x 28 columns]"
            ]
          },
          "metadata": {
            "tags": []
          },
          "execution_count": 33
        }
      ]
    },
    {
      "metadata": {
        "id": "IiSImOoeW198",
        "colab_type": "code",
        "colab": {}
      },
      "cell_type": "code",
      "source": [
        "%matplotlib inline"
      ],
      "execution_count": 0,
      "outputs": []
    },
    {
      "metadata": {
        "id": "dY1gTbA3_GMn",
        "colab_type": "code",
        "colab": {
          "base_uri": "https://localhost:8080/",
          "height": 359
        },
        "outputId": "affd736a-7392-49c0-c839-8a31a58984f2"
      },
      "cell_type": "code",
      "source": [
        "%%bigquery --project dti-capstone-1 selective\n",
        "SELECT\n",
        "  on_street_name,\n",
        "  SUM(number_of_persons_killed) AS deaths\n",
        "FROM\n",
        "  `bigquery-public-data.new_york.nypd_mv_collisions`\n",
        "WHERE\n",
        "  on_street_name <> ''\n",
        "GROUP BY\n",
        "  on_street_name\n",
        "ORDER BY\n",
        "  deaths DESC\n",
        "LIMIT\n",
        "  10"
      ],
      "execution_count": 26,
      "outputs": [
        {
          "output_type": "execute_result",
          "data": {
            "text/html": [
              "<div>\n",
              "<style scoped>\n",
              "    .dataframe tbody tr th:only-of-type {\n",
              "        vertical-align: middle;\n",
              "    }\n",
              "\n",
              "    .dataframe tbody tr th {\n",
              "        vertical-align: top;\n",
              "    }\n",
              "\n",
              "    .dataframe thead th {\n",
              "        text-align: right;\n",
              "    }\n",
              "</style>\n",
              "<table border=\"1\" class=\"dataframe\">\n",
              "  <thead>\n",
              "    <tr style=\"text-align: right;\">\n",
              "      <th></th>\n",
              "      <th>on_street_name</th>\n",
              "      <th>deaths</th>\n",
              "    </tr>\n",
              "  </thead>\n",
              "  <tbody>\n",
              "    <tr>\n",
              "      <th>0</th>\n",
              "      <td>BROADWAY</td>\n",
              "      <td>23</td>\n",
              "    </tr>\n",
              "    <tr>\n",
              "      <th>1</th>\n",
              "      <td>ATLANTIC AVENUE</td>\n",
              "      <td>22</td>\n",
              "    </tr>\n",
              "    <tr>\n",
              "      <th>2</th>\n",
              "      <td>LINDEN BOULEVARD</td>\n",
              "      <td>16</td>\n",
              "    </tr>\n",
              "    <tr>\n",
              "      <th>3</th>\n",
              "      <td>HYLAN BOULEVARD</td>\n",
              "      <td>16</td>\n",
              "    </tr>\n",
              "    <tr>\n",
              "      <th>4</th>\n",
              "      <td>NORTHERN BOULEVARD</td>\n",
              "      <td>15</td>\n",
              "    </tr>\n",
              "    <tr>\n",
              "      <th>5</th>\n",
              "      <td>BRUCKNER BOULEVARD</td>\n",
              "      <td>15</td>\n",
              "    </tr>\n",
              "    <tr>\n",
              "      <th>6</th>\n",
              "      <td>3 AVENUE</td>\n",
              "      <td>15</td>\n",
              "    </tr>\n",
              "    <tr>\n",
              "      <th>7</th>\n",
              "      <td>ROCKAWAY BOULEVARD</td>\n",
              "      <td>14</td>\n",
              "    </tr>\n",
              "    <tr>\n",
              "      <th>8</th>\n",
              "      <td>FLATBUSH AVENUE</td>\n",
              "      <td>13</td>\n",
              "    </tr>\n",
              "    <tr>\n",
              "      <th>9</th>\n",
              "      <td>QUEENS BOULEVARD</td>\n",
              "      <td>12</td>\n",
              "    </tr>\n",
              "  </tbody>\n",
              "</table>\n",
              "</div>"
            ],
            "text/plain": [
              "       on_street_name  deaths\n",
              "0            BROADWAY      23\n",
              "1     ATLANTIC AVENUE      22\n",
              "2    LINDEN BOULEVARD      16\n",
              "3     HYLAN BOULEVARD      16\n",
              "4  NORTHERN BOULEVARD      15\n",
              "5  BRUCKNER BOULEVARD      15\n",
              "6            3 AVENUE      15\n",
              "7  ROCKAWAY BOULEVARD      14\n",
              "8     FLATBUSH AVENUE      13\n",
              "9    QUEENS BOULEVARD      12"
            ]
          },
          "metadata": {
            "tags": []
          },
          "execution_count": 26
        }
      ]
    },
    {
      "metadata": {
        "id": "9566nDkaCQ-r",
        "colab_type": "code",
        "colab": {
          "base_uri": "https://localhost:8080/",
          "height": 407
        },
        "outputId": "7bd45b8e-5329-4dca-d554-e7945bf076c9"
      },
      "cell_type": "code",
      "source": [
        "pax = selective.plot(kind='bar', x='on_street_name', y='deaths');\n",
        "pax.set_title('Number of Persons Killed By Street')\n",
        "pax.set_xlabel('Street Names')\n",
        "pax.set_ylabel('Deaths');"
      ],
      "execution_count": 41,
      "outputs": [
        {
          "output_type": "display_data",
          "data": {
            "image/png": "[encoded data removed]",
            "text/plain": [
              "<Figure size 432x288 with 1 Axes>"
            ]
          },
          "metadata": {
            "tags": []
          }
        }
      ]
    },
    {
      "metadata": {
        "id": "tN6-QSUIaXHL",
        "colab_type": "code",
        "colab": {}
      },
      "cell_type": "code",
      "source": [
        ""
      ],
      "execution_count": 0,
      "outputs": []
    },
    {
      "metadata": {
        "id": "9p4reJkOCfqA",
        "colab_type": "code",
        "colab": {
          "base_uri": "https://localhost:8080/",
          "height": 669
        },
        "outputId": "5ecce42d-c4e9-47c9-9a8d-4aa5f1166245"
      },
      "cell_type": "code",
      "source": [
        "%%bigquery --project dti-capstone-1 collisions\n",
        "SELECT\n",
        "  contributing_factor_vehicle_1 AS collision_factor,\n",
        "  COUNT(*) num_collisions\n",
        "FROM\n",
        "  `bigquery-public-data.new_york.nypd_mv_collisions`\n",
        "WHERE\n",
        "  contributing_factor_vehicle_1 != \"Unspecified\"\n",
        "  AND contributing_factor_vehicle_1 != \"\"\n",
        "GROUP BY\n",
        "  1\n",
        "ORDER BY\n",
        "  num_collisions DESC\n",
        "LIMIT 20"
      ],
      "execution_count": 64,
      "outputs": [
        {
          "output_type": "execute_result",
          "data": {
            "text/html": [
              "<div>\n",
              "<style scoped>\n",
              "    .dataframe tbody tr th:only-of-type {\n",
              "        vertical-align: middle;\n",
              "    }\n",
              "\n",
              "    .dataframe tbody tr th {\n",
              "        vertical-align: top;\n",
              "    }\n",
              "\n",
              "    .dataframe thead th {\n",
              "        text-align: right;\n",
              "    }\n",
              "</style>\n",
              "<table border=\"1\" class=\"dataframe\">\n",
              "  <thead>\n",
              "    <tr style=\"text-align: right;\">\n",
              "      <th></th>\n",
              "      <th>collision_factor</th>\n",
              "      <th>num_collisions</th>\n",
              "    </tr>\n",
              "  </thead>\n",
              "  <tbody>\n",
              "    <tr>\n",
              "      <th>0</th>\n",
              "      <td>Driver Inattention/Distraction</td>\n",
              "      <td>176170</td>\n",
              "    </tr>\n",
              "    <tr>\n",
              "      <th>1</th>\n",
              "      <td>Failure to Yield Right-of-Way</td>\n",
              "      <td>57298</td>\n",
              "    </tr>\n",
              "    <tr>\n",
              "      <th>2</th>\n",
              "      <td>Fatigued/Drowsy</td>\n",
              "      <td>48495</td>\n",
              "    </tr>\n",
              "    <tr>\n",
              "      <th>3</th>\n",
              "      <td>Backing Unsafely</td>\n",
              "      <td>37916</td>\n",
              "    </tr>\n",
              "    <tr>\n",
              "      <th>4</th>\n",
              "      <td>Other Vehicular</td>\n",
              "      <td>36038</td>\n",
              "    </tr>\n",
              "    <tr>\n",
              "      <th>5</th>\n",
              "      <td>Following Too Closely</td>\n",
              "      <td>31636</td>\n",
              "    </tr>\n",
              "    <tr>\n",
              "      <th>6</th>\n",
              "      <td>Turning Improperly</td>\n",
              "      <td>29288</td>\n",
              "    </tr>\n",
              "    <tr>\n",
              "      <th>7</th>\n",
              "      <td>Lost Consciousness</td>\n",
              "      <td>20261</td>\n",
              "    </tr>\n",
              "    <tr>\n",
              "      <th>8</th>\n",
              "      <td>Traffic Control Disregarded</td>\n",
              "      <td>16190</td>\n",
              "    </tr>\n",
              "    <tr>\n",
              "      <th>9</th>\n",
              "      <td>Prescription Medication</td>\n",
              "      <td>15904</td>\n",
              "    </tr>\n",
              "    <tr>\n",
              "      <th>10</th>\n",
              "      <td>Driver Inexperience</td>\n",
              "      <td>15637</td>\n",
              "    </tr>\n",
              "    <tr>\n",
              "      <th>11</th>\n",
              "      <td>Passing or Lane Usage Improper</td>\n",
              "      <td>14820</td>\n",
              "    </tr>\n",
              "    <tr>\n",
              "      <th>12</th>\n",
              "      <td>Unsafe Lane Changing</td>\n",
              "      <td>12472</td>\n",
              "    </tr>\n",
              "    <tr>\n",
              "      <th>13</th>\n",
              "      <td>Pavement Slippery</td>\n",
              "      <td>12188</td>\n",
              "    </tr>\n",
              "    <tr>\n",
              "      <th>14</th>\n",
              "      <td>Outside Car Distraction</td>\n",
              "      <td>10978</td>\n",
              "    </tr>\n",
              "    <tr>\n",
              "      <th>15</th>\n",
              "      <td>Alcohol Involvement</td>\n",
              "      <td>10045</td>\n",
              "    </tr>\n",
              "    <tr>\n",
              "      <th>16</th>\n",
              "      <td>Physical Disability</td>\n",
              "      <td>9375</td>\n",
              "    </tr>\n",
              "    <tr>\n",
              "      <th>17</th>\n",
              "      <td>Oversized Vehicle</td>\n",
              "      <td>7135</td>\n",
              "    </tr>\n",
              "    <tr>\n",
              "      <th>18</th>\n",
              "      <td>Reaction to Other Uninvolved Vehicle</td>\n",
              "      <td>6394</td>\n",
              "    </tr>\n",
              "    <tr>\n",
              "      <th>19</th>\n",
              "      <td>Unsafe Speed</td>\n",
              "      <td>5856</td>\n",
              "    </tr>\n",
              "  </tbody>\n",
              "</table>\n",
              "</div>"
            ],
            "text/plain": [
              "                        collision_factor  num_collisions\n",
              "0         Driver Inattention/Distraction          176170\n",
              "1          Failure to Yield Right-of-Way           57298\n",
              "2                        Fatigued/Drowsy           48495\n",
              "3                       Backing Unsafely           37916\n",
              "4                        Other Vehicular           36038\n",
              "5                  Following Too Closely           31636\n",
              "6                     Turning Improperly           29288\n",
              "7                     Lost Consciousness           20261\n",
              "8            Traffic Control Disregarded           16190\n",
              "9                Prescription Medication           15904\n",
              "10                   Driver Inexperience           15637\n",
              "11        Passing or Lane Usage Improper           14820\n",
              "12                  Unsafe Lane Changing           12472\n",
              "13                     Pavement Slippery           12188\n",
              "14               Outside Car Distraction           10978\n",
              "15                   Alcohol Involvement           10045\n",
              "16                   Physical Disability            9375\n",
              "17                     Oversized Vehicle            7135\n",
              "18  Reaction to Other Uninvolved Vehicle            6394\n",
              "19                          Unsafe Speed            5856"
            ]
          },
          "metadata": {
            "tags": []
          },
          "execution_count": 64
        }
      ]
    },
    {
      "metadata": {
        "id": "mR1e0VsQgdKM",
        "colab_type": "code",
        "colab": {}
      },
      "cell_type": "code",
      "source": [
        "desc = collisions['collision_factor']\n",
        "sizes = collisions['num_collisions']"
      ],
      "execution_count": 0,
      "outputs": []
    },
    {
      "metadata": {
        "id": "ToQ3I4JlXM_k",
        "colab_type": "code",
        "colab": {
          "base_uri": "https://localhost:8080/",
          "height": 369
        },
        "outputId": "af67b42c-926a-471d-b60e-76fa3b79d8e6"
      },
      "cell_type": "code",
      "source": [
        "explode = (0.1, 0, 0, 0, 0, 0, 0, 0, 0, 0, 0, 0, 0, 0, 0, 0, 0, 0, 0, 0)\n",
        "\n",
        "fig1, ax1 = plt.subplots(figsize=(6, 5))\n",
        "fig1.subplots_adjust(0.3,0,1,1)\n",
        "\n",
        "ax1.pie(sizes, explode=explode, labels=desc, autopct='%1.2f',\n",
        "        radius=5.0, shadow=True, startangle=90,\n",
        "       #wedgeprops   = { 'linewidth' : 0.5, 'edgecolor' : \"white\" }\n",
        "       )\n",
        "\n",
        "\n",
        "ax1.axis('equal')\n",
        "plt.tight_layout()\n",
        "plt.show()"
      ],
      "execution_count": 98,
      "outputs": [
        {
          "output_type": "display_data",
          "data": {
            "image/png": "[encoded data removed]",
            "text/plain": [
              "<Figure size 432x360 with 1 Axes>"
            ]
          },
          "metadata": {
            "tags": []
          }
        }
      ]
    },
    {
      "metadata": {
        "id": "t9O8LrmEpD3z",
        "colab_type": "code",
        "colab": {
          "base_uri": "https://localhost:8080/",
          "height": 473
        },
        "outputId": "1fac7e2a-aceb-4db5-d4ff-bdf4d308ad1e"
      },
      "cell_type": "code",
      "source": [
        "\n",
        "\n",
        "fig1, ax1 = plt.subplots(figsize=(11, 5))\n",
        "fig1.subplots_adjust(0.3,0,1,1)\n",
        "\n",
        "\n",
        "theme = plt.get_cmap('bwr')\n",
        "ax1.set_prop_cycle(\"color\", [theme(1. * i / len(sizes)) for i in range(len(sizes))])\n",
        "\n",
        "_, _ = ax1.pie(sizes, startangle=90)\n",
        "\n",
        "ax1.axis('equal')\n",
        "\n",
        "total = sum(sizes)\n",
        "plt.legend(\n",
        "    loc='upper left',\n",
        "    labels=['%s, %1.1f%%' % (\n",
        "        l, (float(s) / total) * 100) for l, s in zip(desc, sizes)],\n",
        "    prop={'size': 15},\n",
        "    bbox_to_anchor=(0.0, 1),\n",
        "    bbox_transform=fig1.transFigure\n",
        ")\n",
        "\n",
        "plt.show()"
      ],
      "execution_count": 113,
      "outputs": [
        {
          "output_type": "display_data",
          "data": {
            "image/png": "[encoded data removed]",
            "text/plain": [
              "<Figure size 792x360 with 1 Axes>"
            ]
          },
          "metadata": {
            "tags": []
          }
        }
      ]
    },
    {
      "metadata": {
        "id": "xsNoxwa3pgyv",
        "colab_type": "code",
        "colab": {}
      },
      "cell_type": "code",
      "source": [
        ""
      ],
      "execution_count": 0,
      "outputs": []
    },
    {
      "metadata": {
        "id": "yVLopNj-pb3G",
        "colab_type": "code",
        "colab": {}
      },
      "cell_type": "code",
      "source": [
        ""
      ],
      "execution_count": 0,
      "outputs": []
    },
    {
      "metadata": {
        "id": "US2NFDqcpG4y",
        "colab_type": "code",
        "colab": {}
      },
      "cell_type": "code",
      "source": [
        ""
      ],
      "execution_count": 0,
      "outputs": []
    },
    {
      "metadata": {
        "id": "r0VNXU1MpCYL",
        "colab_type": "code",
        "colab": {}
      },
      "cell_type": "code",
      "source": [
        ""
      ],
      "execution_count": 0,
      "outputs": []
    },
    {
      "metadata": {
        "id": "7AfM9ACQogSi",
        "colab_type": "code",
        "colab": {}
      },
      "cell_type": "code",
      "source": [
        ""
      ],
      "execution_count": 0,
      "outputs": []
    },
    {
      "metadata": {
        "id": "CFDAFhqOod8i",
        "colab_type": "code",
        "colab": {}
      },
      "cell_type": "code",
      "source": [
        ""
      ],
      "execution_count": 0,
      "outputs": []
    },
    {
      "metadata": {
        "id": "58EQj47Cob4d",
        "colab_type": "code",
        "colab": {}
      },
      "cell_type": "code",
      "source": [
        ""
      ],
      "execution_count": 0,
      "outputs": []
    },
    {
      "metadata": {
        "id": "i8ZsKqz0oYp_",
        "colab_type": "code",
        "colab": {}
      },
      "cell_type": "code",
      "source": [
        ""
      ],
      "execution_count": 0,
      "outputs": []
    },
    {
      "metadata": {
        "id": "9BLnznR2oUut",
        "colab_type": "code",
        "colab": {}
      },
      "cell_type": "code",
      "source": [
        ""
      ],
      "execution_count": 0,
      "outputs": []
    },
    {
      "metadata": {
        "id": "9y26vMHhoTmV",
        "colab_type": "code",
        "colab": {}
      },
      "cell_type": "code",
      "source": [
        ""
      ],
      "execution_count": 0,
      "outputs": []
    },
    {
      "metadata": {
        "id": "By2JjBoon3RI",
        "colab_type": "code",
        "colab": {}
      },
      "cell_type": "code",
      "source": [
        ""
      ],
      "execution_count": 0,
      "outputs": []
    },
    {
      "metadata": {
        "id": "QA6JFF7LnumE",
        "colab_type": "code",
        "colab": {}
      },
      "cell_type": "code",
      "source": [
        ""
      ],
      "execution_count": 0,
      "outputs": []
    },
    {
      "metadata": {
        "id": "H-1PnibUns_M",
        "colab_type": "code",
        "colab": {}
      },
      "cell_type": "code",
      "source": [
        ""
      ],
      "execution_count": 0,
      "outputs": []
    },
    {
      "metadata": {
        "id": "vEgngHodnrdF",
        "colab_type": "code",
        "colab": {}
      },
      "cell_type": "code",
      "source": [
        ""
      ],
      "execution_count": 0,
      "outputs": []
    },
    {
      "metadata": {
        "id": "_lMaExxWnYsT",
        "colab_type": "code",
        "colab": {}
      },
      "cell_type": "code",
      "source": [
        ""
      ],
      "execution_count": 0,
      "outputs": []
    },
    {
      "metadata": {
        "id": "Dmv5SqiBnXlj",
        "colab_type": "code",
        "colab": {}
      },
      "cell_type": "code",
      "source": [
        ""
      ],
      "execution_count": 0,
      "outputs": []
    },
    {
      "metadata": {
        "id": "dItef7o8nYNb",
        "colab_type": "code",
        "colab": {}
      },
      "cell_type": "code",
      "source": [
        ""
      ],
      "execution_count": 0,
      "outputs": []
    },
    {
      "metadata": {
        "id": "W78GGKUfnISq",
        "colab_type": "code",
        "colab": {}
      },
      "cell_type": "code",
      "source": [
        ""
      ],
      "execution_count": 0,
      "outputs": []
    },
    {
      "metadata": {
        "id": "G4QDmR-SnG5i",
        "colab_type": "code",
        "colab": {}
      },
      "cell_type": "code",
      "source": [
        ""
      ],
      "execution_count": 0,
      "outputs": []
    },
    {
      "metadata": {
        "id": "OETkXQDanCWf",
        "colab_type": "code",
        "colab": {}
      },
      "cell_type": "code",
      "source": [
        ""
      ],
      "execution_count": 0,
      "outputs": []
    },
    {
      "metadata": {
        "id": "QPUAmVremnjq",
        "colab_type": "code",
        "colab": {}
      },
      "cell_type": "code",
      "source": [
        ""
      ],
      "execution_count": 0,
      "outputs": []
    },
    {
      "metadata": {
        "id": "XD-veiWUmhY8",
        "colab_type": "code",
        "colab": {}
      },
      "cell_type": "code",
      "source": [
        ""
      ],
      "execution_count": 0,
      "outputs": []
    },
    {
      "metadata": {
        "id": "gB5OiyLdmfoc",
        "colab_type": "code",
        "colab": {}
      },
      "cell_type": "code",
      "source": [
        ""
      ],
      "execution_count": 0,
      "outputs": []
    },
    {
      "metadata": {
        "id": "VkZtsKWmmIUk",
        "colab_type": "code",
        "colab": {}
      },
      "cell_type": "code",
      "source": [
        ""
      ],
      "execution_count": 0,
      "outputs": []
    },
    {
      "metadata": {
        "id": "9UHwobaEmCuM",
        "colab_type": "code",
        "colab": {}
      },
      "cell_type": "code",
      "source": [
        ""
      ],
      "execution_count": 0,
      "outputs": []
    },
    {
      "metadata": {
        "id": "tpUbN-t7l8sQ",
        "colab_type": "code",
        "colab": {}
      },
      "cell_type": "code",
      "source": [
        ""
      ],
      "execution_count": 0,
      "outputs": []
    },
    {
      "metadata": {
        "id": "WK1I-zGMl0sd",
        "colab_type": "code",
        "colab": {}
      },
      "cell_type": "code",
      "source": [
        ""
      ],
      "execution_count": 0,
      "outputs": []
    },
    {
      "metadata": {
        "id": "wwxY7PMQlmrz",
        "colab_type": "code",
        "colab": {}
      },
      "cell_type": "code",
      "source": [
        ""
      ],
      "execution_count": 0,
      "outputs": []
    },
    {
      "metadata": {
        "id": "un3lP6Ejljiz",
        "colab_type": "code",
        "colab": {}
      },
      "cell_type": "code",
      "source": [
        ""
      ],
      "execution_count": 0,
      "outputs": []
    },
    {
      "metadata": {
        "id": "8a2mlL6LlRci",
        "colab_type": "code",
        "colab": {}
      },
      "cell_type": "code",
      "source": [
        ""
      ],
      "execution_count": 0,
      "outputs": []
    },
    {
      "metadata": {
        "id": "5YFWZ486lCED",
        "colab_type": "code",
        "colab": {}
      },
      "cell_type": "code",
      "source": [
        ""
      ],
      "execution_count": 0,
      "outputs": []
    },
    {
      "metadata": {
        "id": "8UHOUG26k8sc",
        "colab_type": "code",
        "colab": {}
      },
      "cell_type": "code",
      "source": [
        ""
      ],
      "execution_count": 0,
      "outputs": []
    },
    {
      "metadata": {
        "id": "rAtS6V_Mk0E1",
        "colab_type": "code",
        "colab": {}
      },
      "cell_type": "code",
      "source": [
        ""
      ],
      "execution_count": 0,
      "outputs": []
    },
    {
      "metadata": {
        "id": "NfNlygajkPAx",
        "colab_type": "code",
        "colab": {}
      },
      "cell_type": "code",
      "source": [
        ""
      ],
      "execution_count": 0,
      "outputs": []
    },
    {
      "metadata": {
        "id": "ZW80VWgoiZkC",
        "colab_type": "code",
        "colab": {}
      },
      "cell_type": "code",
      "source": [
        ""
      ],
      "execution_count": 0,
      "outputs": []
    },
    {
      "metadata": {
        "id": "xQMdjcEWiX0i",
        "colab_type": "code",
        "colab": {}
      },
      "cell_type": "code",
      "source": [
        ""
      ],
      "execution_count": 0,
      "outputs": []
    },
    {
      "metadata": {
        "id": "rHRE29MoiS9F",
        "colab_type": "code",
        "colab": {}
      },
      "cell_type": "code",
      "source": [
        ""
      ],
      "execution_count": 0,
      "outputs": []
    },
    {
      "metadata": {
        "id": "uPwLbcWDiBGQ",
        "colab_type": "code",
        "colab": {}
      },
      "cell_type": "code",
      "source": [
        ""
      ],
      "execution_count": 0,
      "outputs": []
    },
    {
      "metadata": {
        "id": "VtRg2kXIh7qK",
        "colab_type": "code",
        "colab": {}
      },
      "cell_type": "code",
      "source": [
        ""
      ],
      "execution_count": 0,
      "outputs": []
    },
    {
      "metadata": {
        "id": "GGMwx77wgjPG",
        "colab_type": "code",
        "colab": {}
      },
      "cell_type": "code",
      "source": [
        ""
      ],
      "execution_count": 0,
      "outputs": []
    },
    {
      "metadata": {
        "id": "hQyh9tGLghmy",
        "colab_type": "code",
        "colab": {}
      },
      "cell_type": "code",
      "source": [
        ""
      ],
      "execution_count": 0,
      "outputs": []
    },
    {
      "metadata": {
        "id": "03lLzd4Gggmb",
        "colab_type": "code",
        "colab": {}
      },
      "cell_type": "code",
      "source": [
        ""
      ],
      "execution_count": 0,
      "outputs": []
    },
    {
      "metadata": {
        "id": "sZIasK1ngeaE",
        "colab_type": "code",
        "colab": {}
      },
      "cell_type": "code",
      "source": [
        ""
      ],
      "execution_count": 0,
      "outputs": []
    },
    {
      "metadata": {
        "id": "EzHIUZnwga5s",
        "colab_type": "code",
        "colab": {}
      },
      "cell_type": "code",
      "source": [
        ""
      ],
      "execution_count": 0,
      "outputs": []
    },
    {
      "metadata": {
        "id": "Zszq9V3ZXHHl",
        "colab_type": "code",
        "colab": {}
      },
      "cell_type": "code",
      "source": [
        ""
      ],
      "execution_count": 0,
      "outputs": []
    },
    {
      "metadata": {
        "id": "pJFZ6PHAV6VB",
        "colab_type": "code",
        "colab": {}
      },
      "cell_type": "code",
      "source": [
        ""
      ],
      "execution_count": 0,
      "outputs": []
    },
    {
      "metadata": {
        "id": "z1mKTYeCCDNV",
        "colab_type": "code",
        "colab": {}
      },
      "cell_type": "code",
      "source": [
        ""
      ],
      "execution_count": 0,
      "outputs": []
    },
    {
      "metadata": {
        "id": "YHRYBPTr_XbZ",
        "colab_type": "code",
        "colab": {}
      },
      "cell_type": "code",
      "source": [
        ""
      ],
      "execution_count": 0,
      "outputs": []
    },
    {
      "metadata": {
        "id": "ftjXom8E_VFI",
        "colab_type": "code",
        "colab": {}
      },
      "cell_type": "code",
      "source": [
        ""
      ],
      "execution_count": 0,
      "outputs": []
    },
    {
      "metadata": {
        "id": "S6DwWTrA9M3h",
        "colab_type": "code",
        "colab": {}
      },
      "cell_type": "code",
      "source": [
        ""
      ],
      "execution_count": 0,
      "outputs": []
    },
    {
      "metadata": {
        "id": "ub8_8tLT9MCb",
        "colab_type": "code",
        "colab": {}
      },
      "cell_type": "code",
      "source": [
        ""
      ],
      "execution_count": 0,
      "outputs": []
    },
    {
      "metadata": {
        "id": "k18nl_uix5b6",
        "colab_type": "code",
        "colab": {}
      },
      "cell_type": "code",
      "source": [
        ""
      ],
      "execution_count": 0,
      "outputs": []
    },
    {
      "metadata": {
        "id": "Sim-tapM8vKE",
        "colab_type": "code",
        "colab": {}
      },
      "cell_type": "code",
      "source": [
        ""
      ],
      "execution_count": 0,
      "outputs": []
    },
    {
      "metadata": {
        "id": "fL4SJk2JxcO6",
        "colab_type": "code",
        "colab": {}
      },
      "cell_type": "code",
      "source": [
        ""
      ],
      "execution_count": 0,
      "outputs": []
    },
    {
      "metadata": {
        "id": "lAtY88z7xVln",
        "colab_type": "code",
        "colab": {}
      },
      "cell_type": "code",
      "source": [
        ""
      ],
      "execution_count": 0,
      "outputs": []
    },
    {
      "metadata": {
        "id": "GYY9PGN9xSCp",
        "colab_type": "code",
        "colab": {}
      },
      "cell_type": "code",
      "source": [
        ""
      ],
      "execution_count": 0,
      "outputs": []
    },
    {
      "metadata": {
        "id": "Kryx8VoDxBqI",
        "colab_type": "code",
        "colab": {}
      },
      "cell_type": "code",
      "source": [
        ""
      ],
      "execution_count": 0,
      "outputs": []
    },
    {
      "metadata": {
        "id": "g3wYJ1qcw8zQ",
        "colab_type": "code",
        "colab": {}
      },
      "cell_type": "code",
      "source": [
        ""
      ],
      "execution_count": 0,
      "outputs": []
    }
  ]
}